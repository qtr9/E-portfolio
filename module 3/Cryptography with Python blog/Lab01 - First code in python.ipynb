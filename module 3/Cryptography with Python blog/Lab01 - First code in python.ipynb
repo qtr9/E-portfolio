{
 "cells": [
  {
   "cell_type": "markdown",
   "id": "330eccb5",
   "metadata": {},
   "source": [
    "### My First code"
   ]
  },
  {
   "cell_type": "code",
   "execution_count": 2,
   "id": "94a0f430",
   "metadata": {},
   "outputs": [
    {
     "data": {
      "text/plain": [
       "13"
      ]
     },
     "execution_count": 2,
     "metadata": {},
     "output_type": "execute_result"
    }
   ],
   "source": [
    "4+9"
   ]
  },
  {
   "cell_type": "code",
   "execution_count": 4,
   "id": "72be3938",
   "metadata": {},
   "outputs": [
    {
     "name": "stdout",
     "output_type": "stream",
     "text": [
      "Hello World!\n"
     ]
    }
   ],
   "source": [
    "print (\"Hello World!\")"
   ]
  },
  {
   "cell_type": "code",
   "execution_count": 9,
   "id": "112dc9b6",
   "metadata": {},
   "outputs": [
    {
     "name": "stdout",
     "output_type": "stream",
     "text": [
      "<class 'str'>\n",
      "Hello Ali\n"
     ]
    }
   ],
   "source": [
    "Sent1 = \"Hello Ali\"\n",
    "print(type(Sent1))\n",
    "print (Sent1)"
   ]
  },
  {
   "cell_type": "code",
   "execution_count": 14,
   "id": "b84d1894",
   "metadata": {},
   "outputs": [
    {
     "name": "stdout",
     "output_type": "stream",
     "text": [
      " This is your second sentence\n"
     ]
    }
   ],
   "source": [
    "Sent2 = ' This is your second sentence'\n",
    "print (Sent2)"
   ]
  },
  {
   "cell_type": "code",
   "execution_count": 15,
   "id": "0fd40d70",
   "metadata": {},
   "outputs": [
    {
     "name": "stdout",
     "output_type": "stream",
     "text": [
      "Hello Ali This is your second sentence\n"
     ]
    }
   ],
   "source": [
    "x = Sent1 + Sent2\n",
    "print (x)"
   ]
  },
  {
   "cell_type": "code",
   "execution_count": null,
   "id": "93cc51b8",
   "metadata": {},
   "outputs": [],
   "source": []
  }
 ],
 "metadata": {
  "kernelspec": {
   "display_name": "Python 3 (ipykernel)",
   "language": "python",
   "name": "python3"
  },
  "language_info": {
   "codemirror_mode": {
    "name": "ipython",
    "version": 3
   },
   "file_extension": ".py",
   "mimetype": "text/x-python",
   "name": "python",
   "nbconvert_exporter": "python",
   "pygments_lexer": "ipython3",
   "version": "3.10.5"
  }
 },
 "nbformat": 4,
 "nbformat_minor": 5
}
